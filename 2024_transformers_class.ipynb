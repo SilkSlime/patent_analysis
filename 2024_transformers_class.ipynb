{
 "cells": [
  {
   "cell_type": "code",
   "execution_count": 1,
   "metadata": {},
   "outputs": [],
   "source": [
    "# Step 1: Import necessary libraries\n",
    "import pandas as pd\n",
    "from sklearn.model_selection import train_test_split\n",
    "from sklearn.feature_extraction.text import TfidfVectorizer\n",
    "from sklearn.metrics import accuracy_score, precision_score, recall_score, f1_score\n",
    "from sklearn.linear_model import LogisticRegression\n",
    "from sklearn.preprocessing import LabelEncoder\n",
    "from sklearn.pipeline import Pipeline\n",
    "from sklearn.metrics import classification_report\n",
    "import matplotlib.pyplot as plt\n",
    "import seaborn as sns\n",
    "import numpy as np\n",
    "import matplotlib.cm as cm"
   ]
  },
  {
   "cell_type": "code",
   "execution_count": 2,
   "metadata": {},
   "outputs": [],
   "source": [
    "from sentence_transformers import SentenceTransformer, util"
   ]
  },
  {
   "cell_type": "code",
   "execution_count": 3,
   "metadata": {},
   "outputs": [],
   "source": [
    "def get_data(year: int) -> pd.DataFrame:\n",
    "    return pd.read_csv(f\"years/{year}.csv\")\n",
    "\n",
    "def filter(df: pd.DataFrame, level: str, vals: list[str]) -> pd.DataFrame:\n",
    "    return df[df[level].isin(vals)]\n",
    "\n",
    "def limiter(df: pd.DataFrame, level: str, percent: float) -> pd.DataFrame:\n",
    "    return train_test_split(df, train_size=percent, stratify=df[level], shuffle=True)[0]"
   ]
  },
  {
   "cell_type": "code",
   "execution_count": 4,
   "metadata": {},
   "outputs": [],
   "source": [
    "p2000 = get_data(2000)\n",
    "p2010 = get_data(2010)"
   ]
  },
  {
   "cell_type": "code",
   "execution_count": 12,
   "metadata": {},
   "outputs": [
    {
     "data": {
      "text/html": [
       "<div>\n",
       "<style scoped>\n",
       "    .dataframe tbody tr th:only-of-type {\n",
       "        vertical-align: middle;\n",
       "    }\n",
       "\n",
       "    .dataframe tbody tr th {\n",
       "        vertical-align: top;\n",
       "    }\n",
       "\n",
       "    .dataframe thead th {\n",
       "        text-align: right;\n",
       "    }\n",
       "</style>\n",
       "<table border=\"1\" class=\"dataframe\">\n",
       "  <thead>\n",
       "    <tr style=\"text-align: right;\">\n",
       "      <th></th>\n",
       "      <th>Text</th>\n",
       "      <th>Section</th>\n",
       "      <th>Class</th>\n",
       "      <th>Subclass</th>\n",
       "      <th>Group</th>\n",
       "    </tr>\n",
       "  </thead>\n",
       "  <tbody>\n",
       "    <tr>\n",
       "      <th>0</th>\n",
       "      <td>Object value multiplication method for compute...</td>\n",
       "      <td>G</td>\n",
       "      <td>G06</td>\n",
       "      <td>G06F</td>\n",
       "      <td>G06F-007</td>\n",
       "    </tr>\n",
       "    <tr>\n",
       "      <th>1</th>\n",
       "      <td>Object value multiplication method for compute...</td>\n",
       "      <td>G</td>\n",
       "      <td>G06</td>\n",
       "      <td>G06F</td>\n",
       "      <td>G06F-009</td>\n",
       "    </tr>\n",
       "    <tr>\n",
       "      <th>2</th>\n",
       "      <td>Object value multiplication method for compute...</td>\n",
       "      <td>G</td>\n",
       "      <td>G06</td>\n",
       "      <td>G06F</td>\n",
       "      <td>G06F-007</td>\n",
       "    </tr>\n",
       "    <tr>\n",
       "      <th>3</th>\n",
       "      <td>Object value multiplication method for compute...</td>\n",
       "      <td>G</td>\n",
       "      <td>G06</td>\n",
       "      <td>G06F</td>\n",
       "      <td>G06F-017</td>\n",
       "    </tr>\n",
       "    <tr>\n",
       "      <th>4</th>\n",
       "      <td>Incremental search performing system for conta...</td>\n",
       "      <td>G</td>\n",
       "      <td>G06</td>\n",
       "      <td>G06F</td>\n",
       "      <td>G06F-000</td>\n",
       "    </tr>\n",
       "    <tr>\n",
       "      <th>...</th>\n",
       "      <td>...</td>\n",
       "      <td>...</td>\n",
       "      <td>...</td>\n",
       "      <td>...</td>\n",
       "      <td>...</td>\n",
       "    </tr>\n",
       "    <tr>\n",
       "      <th>135557</th>\n",
       "      <td>Method of processing electronic transaction, i...</td>\n",
       "      <td>G</td>\n",
       "      <td>G06</td>\n",
       "      <td>G06F</td>\n",
       "      <td>G06F-021</td>\n",
       "    </tr>\n",
       "    <tr>\n",
       "      <th>135558</th>\n",
       "      <td>Non-transitory computer-readable medium for co...</td>\n",
       "      <td>G</td>\n",
       "      <td>G06</td>\n",
       "      <td>G06F</td>\n",
       "      <td>G06F-017</td>\n",
       "    </tr>\n",
       "    <tr>\n",
       "      <th>135559</th>\n",
       "      <td>Method for creating version-to-version positio...</td>\n",
       "      <td>G</td>\n",
       "      <td>G06</td>\n",
       "      <td>G06F</td>\n",
       "      <td>G06F-017</td>\n",
       "    </tr>\n",
       "    <tr>\n",
       "      <th>135560</th>\n",
       "      <td>Method for creating version-to-version positio...</td>\n",
       "      <td>G</td>\n",
       "      <td>G06</td>\n",
       "      <td>G06F</td>\n",
       "      <td>G06F-017</td>\n",
       "    </tr>\n",
       "    <tr>\n",
       "      <th>135561</th>\n",
       "      <td>Method for displaying media content, involves ...</td>\n",
       "      <td>G</td>\n",
       "      <td>G06</td>\n",
       "      <td>G06F</td>\n",
       "      <td>G06F-017</td>\n",
       "    </tr>\n",
       "  </tbody>\n",
       "</table>\n",
       "<p>135562 rows × 5 columns</p>\n",
       "</div>"
      ],
      "text/plain": [
       "                                                     Text Section Class  \\\n",
       "0       Object value multiplication method for compute...       G   G06   \n",
       "1       Object value multiplication method for compute...       G   G06   \n",
       "2       Object value multiplication method for compute...       G   G06   \n",
       "3       Object value multiplication method for compute...       G   G06   \n",
       "4       Incremental search performing system for conta...       G   G06   \n",
       "...                                                   ...     ...   ...   \n",
       "135557  Method of processing electronic transaction, i...       G   G06   \n",
       "135558  Non-transitory computer-readable medium for co...       G   G06   \n",
       "135559  Method for creating version-to-version positio...       G   G06   \n",
       "135560  Method for creating version-to-version positio...       G   G06   \n",
       "135561  Method for displaying media content, involves ...       G   G06   \n",
       "\n",
       "       Subclass     Group  \n",
       "0          G06F  G06F-007  \n",
       "1          G06F  G06F-009  \n",
       "2          G06F  G06F-007  \n",
       "3          G06F  G06F-017  \n",
       "4          G06F  G06F-000  \n",
       "...         ...       ...  \n",
       "135557     G06F  G06F-021  \n",
       "135558     G06F  G06F-017  \n",
       "135559     G06F  G06F-017  \n",
       "135560     G06F  G06F-017  \n",
       "135561     G06F  G06F-017  \n",
       "\n",
       "[135562 rows x 5 columns]"
      ]
     },
     "execution_count": 12,
     "metadata": {},
     "output_type": "execute_result"
    }
   ],
   "source": [
    "p2010"
   ]
  },
  {
   "cell_type": "code",
   "execution_count": 17,
   "metadata": {},
   "outputs": [
    {
     "data": {
      "text/plain": [
       "624"
      ]
     },
     "execution_count": 17,
     "metadata": {},
     "output_type": "execute_result"
    }
   ],
   "source": [
    "1 + len(p2000[\"Section\"].unique()) + len(p2000[\"Class\"].unique()) + len(p2000[\"Subclass\"].unique())"
   ]
  },
  {
   "cell_type": "code",
   "execution_count": 29,
   "metadata": {},
   "outputs": [],
   "source": [
    "level = \"Subclass\"\n",
    "subclasses = ['G05B', 'H01L', 'G06K']\n",
    "percent = 0.2\n",
    "p2000, p2010 = filter(p2000, level, subclasses), filter(p2010, level, subclasses)\n",
    "p2000, p2010 = limiter(p2000, level, percent), limiter(p2010, level, percent)\n"
   ]
  },
  {
   "cell_type": "code",
   "execution_count": 30,
   "metadata": {},
   "outputs": [],
   "source": [
    "p2000_x, p2000_y = p2000[\"Text\"], p2000[\"Subclass\"]\n",
    "p2010_x, p2010_y = p2010[\"Text\"], p2010[\"Subclass\"]"
   ]
  },
  {
   "cell_type": "code",
   "execution_count": 31,
   "metadata": {},
   "outputs": [],
   "source": [
    "p2000_x_train, p2000_x_test, p2000_y_train, p2000_y_test = train_test_split(p2000_x, p2000_y, shuffle=True, stratify=p2000_y, random_state=40132)"
   ]
  },
  {
   "cell_type": "code",
   "execution_count": 32,
   "metadata": {},
   "outputs": [
    {
     "name": "stderr",
     "output_type": "stream",
     "text": [
      "e:\\_PROGRAMS\\Python311\\Lib\\site-packages\\torch\\_utils.py:831: UserWarning: TypedStorage is deprecated. It will be removed in the future and UntypedStorage will be the only storage class. This should only matter to you if you are using storages directly.  To access UntypedStorage directly, use tensor.untyped_storage() instead of tensor.storage()\n",
      "  return self.fget.__get__(instance, owner)()\n"
     ]
    }
   ],
   "source": [
    "vectorizer = SentenceTransformer('allenai-specter')"
   ]
  },
  {
   "cell_type": "code",
   "execution_count": 33,
   "metadata": {},
   "outputs": [],
   "source": [
    "p2000_x_train_v = vectorizer.encode(p2000_x_train.to_list())"
   ]
  },
  {
   "cell_type": "code",
   "execution_count": 34,
   "metadata": {},
   "outputs": [],
   "source": [
    "p2000_x_test_v = vectorizer.encode(p2000_x_test.to_list())"
   ]
  },
  {
   "cell_type": "code",
   "execution_count": null,
   "metadata": {},
   "outputs": [],
   "source": [
    "import pickle\n",
    "\n",
    "with open(\"p2000_x_train_v.pkl\", \"wb\") as f:\n",
    "    pickle.dump(p2000_x_train_v, f)\n",
    "\n",
    "with open(\"p2000_x_test_v.pkl\", \"wb\") as f:\n",
    "    pickle.dump(p2000_x_test_v, f)"
   ]
  },
  {
   "cell_type": "code",
   "execution_count": null,
   "metadata": {},
   "outputs": [],
   "source": [
    "with open(\"p2000_x_train_v.pkl\", \"rb\") as f:\n",
    "    p2000_x_train_v = pickle.load(f)\n",
    "\n",
    "with open(\"p2000_x_test_v.pkl\", \"rb\") as f:\n",
    "    p2000_x_test_v = pickle.load(f)"
   ]
  },
  {
   "cell_type": "code",
   "execution_count": 35,
   "metadata": {},
   "outputs": [],
   "source": [
    "from sklearn.manifold import TSNE\n",
    "from sklearn.decomposition import PCA\n",
    "from umap import UMAP\n",
    "\n",
    "pca = PCA(n_components=2, random_state=412)\n",
    "tsne = TSNE(n_components=2, random_state=42)\n",
    "umap = UMAP(n_components=2, n_neighbors=15, min_dist=0.1, metric='cosine')\n",
    "\n",
    "# plt_result_train = pca.fit_transform(pipeline.named_steps['tfidf'].transform(train_df['Text']).toarray())\n",
    "# plt_result_test = pca.transform(pipeline.named_steps['tfidf'].transform(test_df['Text']).toarray())\n",
    "\n",
    "# plt_result_train = tsne.fit_transform(pipeline.named_steps['tfidf'].transform(train_df['Text']).toarray())\n",
    "# plt_result_test = tsne.fit_transform(pipeline.named_steps['tfidf'].transform(test_df['Text']).toarray())\n",
    "\n",
    "plt_result_train = umap.fit_transform(p2000_x_train_v)\n",
    "plt_result_test = umap.transform(p2000_x_test_v)"
   ]
  },
  {
   "cell_type": "code",
   "execution_count": 36,
   "metadata": {},
   "outputs": [],
   "source": [
    "disp_limit = 100000\n",
    "subset_train_indices = []\n",
    "subset_test_indices = []\n",
    "\n",
    "for class_label in p2000_y_train.unique():\n",
    "    class_indices_train = np.where(p2000_y_train == class_label)[0][:disp_limit]\n",
    "    class_indices_test = np.where(p2000_y_test == class_label)[0][:disp_limit]\n",
    "    \n",
    "    subset_train_indices.extend(class_indices_train)\n",
    "    subset_test_indices.extend(class_indices_test)"
   ]
  },
  {
   "cell_type": "code",
   "execution_count": 37,
   "metadata": {},
   "outputs": [],
   "source": [
    "label_encoder = LabelEncoder()\n",
    "train_labels_encoded = label_encoder.fit_transform(p2000_y_train)\n",
    "test_labels_encoded = label_encoder.transform(p2000_y_test)\n",
    "for class_label in p2000_y_train.unique():\n",
    "    class_indices_train = np.where(p2000_y_train == class_label)[0][:disp_limit]\n",
    "    subset_train_indices.extend(class_indices_train)\n",
    "    class_indices_test = np.where(p2000_y_test == class_label)[0][:disp_limit]\n",
    "    subset_test_indices.extend(class_indices_test)"
   ]
  },
  {
   "cell_type": "code",
   "execution_count": 38,
   "metadata": {},
   "outputs": [],
   "source": [
    "classes = p2000_y_train.unique()\n",
    "colors = cm.rainbow(np.linspace(0, 1, len(classes)))"
   ]
  },
  {
   "cell_type": "code",
   "execution_count": 39,
   "metadata": {},
   "outputs": [
    {
     "name": "stderr",
     "output_type": "stream",
     "text": [
      "C:\\Users\\SilkSlime\\AppData\\Local\\Temp\\ipykernel_14832\\2353808188.py:5: UserWarning: *c* argument looks like a single numeric RGB or RGBA sequence, which should be avoided as value-mapping will have precedence in case its length matches with *x* & *y*.  Please use the *color* keyword-argument or provide a 2D array with a single row if you intend to specify the same RGB or RGBA value for all points.\n",
      "  plt.scatter(plt_result_train[subset_train_indices, 0][indices], plt_result_train[subset_train_indices, 1][indices], c=color, label=label, marker='o', alpha=0.1, linewidths=0, s=10)\n"
     ]
    },
    {
     "data": {
      "image/png": "[encoded data removed]",
      "text/plain": [
       "<Figure size 800x600 with 1 Axes>"
      ]
     },
     "metadata": {},
     "output_type": "display_data"
    },
    {
     "name": "stderr",
     "output_type": "stream",
     "text": [
      "C:\\Users\\SilkSlime\\AppData\\Local\\Temp\\ipykernel_14832\\2353808188.py:13: UserWarning: *c* argument looks like a single numeric RGB or RGBA sequence, which should be avoided as value-mapping will have precedence in case its length matches with *x* & *y*.  Please use the *color* keyword-argument or provide a 2D array with a single row if you intend to specify the same RGB or RGBA value for all points.\n",
      "  plt.scatter(plt_result_test[subset_test_indices, 0][indices], plt_result_test[subset_test_indices, 1][indices], c=color, label=label, marker='o', alpha=0.3, linewidths=0, s=10)\n"
     ]
    },
    {
     "data": {
      "image/png": "[encoded data removed]",
      "text/plain": [
       "<Figure size 800x600 with 1 Axes>"
      ]
     },
     "metadata": {},
     "output_type": "display_data"
    }
   ],
   "source": [
    "labels = label_encoder.inverse_transform(train_labels_encoded[subset_train_indices])\n",
    "plt.figure(figsize=(8, 6))\n",
    "for label, color in zip(classes, colors):\n",
    "    indices = np.where(labels == label)\n",
    "    plt.scatter(plt_result_train[subset_train_indices, 0][indices], plt_result_train[subset_train_indices, 1][indices], c=color, label=label, marker='o', alpha=0.1, linewidths=0, s=10)\n",
    "plt.title('2000 год')\n",
    "plt.legend()\n",
    "plt.show()\n",
    "labels = label_encoder.inverse_transform(test_labels_encoded[subset_test_indices])\n",
    "plt.figure(figsize=(8, 6))\n",
    "for label, color in zip(classes, colors):\n",
    "    indices = np.where(labels == label)\n",
    "    plt.scatter(plt_result_test[subset_test_indices, 0][indices], plt_result_test[subset_test_indices, 1][indices], c=color, label=label, marker='o', alpha=0.3, linewidths=0, s=10)\n",
    "plt.title('2010 год')\n",
    "plt.legend()\n",
    "plt.show()"
   ]
  },
  {
   "cell_type": "code",
   "execution_count": null,
   "metadata": {},
   "outputs": [],
   "source": []
  }
 ],
 "metadata": {
  "kernelspec": {
   "display_name": "Python 3",
   "language": "python",
   "name": "python3"
  },
  "language_info": {
   "codemirror_mode": {
    "name": "ipython",
    "version": 3
   },
   "file_extension": ".py",
   "mimetype": "text/x-python",
   "name": "python",
   "nbconvert_exporter": "python",
   "pygments_lexer": "ipython3",
   "version": "3.11.4"
  }
 },
 "nbformat": 4,
 "nbformat_minor": 2
}
