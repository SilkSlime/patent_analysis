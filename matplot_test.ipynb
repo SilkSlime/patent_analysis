{
 "cells": [
  {
   "cell_type": "code",
   "execution_count": null,
   "metadata": {},
   "outputs": [],
   "source": [
    "# plot 3d data using PCA and make it spin\n",
    "from matplotlib import animation\n",
    "from mpl_toolkits.mplot3d import Axes3D\n",
    "\n",
    "fig = plt.figure(figsize=(12, 8))\n",
    "ax = fig.add_subplot(111, projection=\"3d\")\n",
    "\n",
    "pca = PCA(n_components=3, random_state=42)\n",
    "X_pca = pca.fit_transform(X_test_vectors.toarray())\n",
    "\n",
    "colors = [\"red\", \"blue\", \"green\", \"yellow\", \"orange\", \"purple\", \"pink\", \"brown\", \"black\", \"gray\"]\n",
    "\n",
    "def update(i):\n",
    "    ax.clear()\n",
    "    for j, d in enumerate(zip(classes, colors)):\n",
    "        ax.scatter(X_pca[y_test == d[0], 0], X_pca[y_test == d[0], 1], X_pca[y_test == d[0], 2], label=f\"{d[0]} real\", alpha=0.5, s=10, c=d[1])\n",
    "    for j, d in enumerate(zip(classes, colors)):\n",
    "        ax.scatter(X_pca[y_pred == d[0], 0], X_pca[y_pred == d[0], 1], X_pca[y_pred == d[0], 2], label=f\"{d[0]} predicted\", alpha=1, s=1, c=d[1])\n",
    "    ax.view_init(30, i)\n",
    "    ax.legend()\n",
    "\n",
    "ani = animation.FuncAnimation(fig, update, frames=360, interval=20)\n",
    "ani.save(\"3d.gif\", writer=\"imagemagick\", fps=30)"
   ]
  },
  {
   "cell_type": "code",
   "execution_count": null,
   "metadata": {},
   "outputs": [],
   "source": [
    "# plot 2d data using t-SNE\n",
    "from sklearn.manifold import TSNE\n",
    "\n",
    "tsne = TSNE(n_components=2, random_state=42)\n",
    "X_tsne = tsne.fit_transform(X_test_vectors.toarray())\n",
    "\n",
    "plt.figure(figsize=(12, 8))\n",
    "\n",
    "colors = [\"red\", \"blue\", \"green\", \"yellow\", \"orange\", \"purple\", \"pink\", \"brown\", \"black\", \"gray\"]\n",
    "\n",
    "for i, d in enumerate(zip(classes, colors)):\n",
    "    plt.scatter(X_tsne[y_test == d[0], 0], X_tsne[y_test == d[0], 1], label=f\"{d[0]} real\", alpha=0.5, s=10, c=d[1])\n",
    "for i, d in enumerate(zip(classes, colors)):\n",
    "    plt.scatter(X_tsne[y_pred == d[0], 0], X_tsne[y_pred == d[0], 1], label=f\"{d[0]} predicted\", alpha=1, s=1, c=d[1])\n",
    "\n",
    "plt.legend()\n",
    "plt.show()"
   ]
  },
  {
   "cell_type": "code",
   "execution_count": null,
   "metadata": {},
   "outputs": [],
   "source": [
    "# plot 3d data using t-SNE and make it spin\n",
    "from matplotlib import animation\n",
    "from mpl_toolkits.mplot3d import Axes3D\n",
    "\n",
    "fig = plt.figure(figsize=(12, 8))\n",
    "ax = fig.add_subplot(111, projection=\"3d\")\n",
    "\n",
    "tsne = TSNE(n_components=3, random_state=42)\n",
    "X_tsne = tsne.fit_transform(X_test_vectors.toarray())\n",
    "\n",
    "colors = [\"red\", \"blue\", \"green\", \"yellow\", \"orange\", \"purple\", \"pink\", \"brown\", \"black\", \"gray\"]\n",
    "\n",
    "def update(i):\n",
    "    ax.clear()\n",
    "    for j, d in enumerate(zip(classes, colors)):\n",
    "        ax.scatter(X_tsne[y_test == d[0], 0], X_tsne[y_test == d[0], 1], X_tsne[y_test == d[0], 2], label=f\"{d[0]} real\", alpha=0.5, s=10, c=d[1])\n",
    "    for j, d in enumerate(zip(classes, colors)):\n",
    "        ax.scatter(X_tsne[y_pred == d[0], 0], X_tsne[y_pred == d[0], 1], X_tsne[y_pred == d[0], 2], label=f\"{d[0]} predicted\", alpha=1, s=1, c=d[1])\n",
    "    ax.view_init(30, i)\n",
    "    ax.legend()\n",
    "\n",
    "ani = animation.FuncAnimation(fig, update, frames=360, interval=20)\n",
    "ani.save(\"3d_t-SNE.gif\", writer=\"imagemagick\", fps=30)"
   ]
  }
 ],
 "metadata": {
  "language_info": {
   "name": "python"
  },
  "orig_nbformat": 4
 },
 "nbformat": 4,
 "nbformat_minor": 2
}
