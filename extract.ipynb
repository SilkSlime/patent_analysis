{
 "cells": [
  {
   "cell_type": "code",
   "execution_count": 1,
   "metadata": {},
   "outputs": [],
   "source": [
    "import pandas as pd\n",
    "from tqdm import tqdm\n",
    "import numpy as np"
   ]
  },
  {
   "cell_type": "code",
   "execution_count": 2,
   "metadata": {},
   "outputs": [],
   "source": [
    "familiesaggregated = pd.read_csv(\"data/FamiliesAggregated.csv\", low_memory=False)"
   ]
  },
  {
   "cell_type": "code",
   "execution_count": 3,
   "metadata": {},
   "outputs": [],
   "source": [
    "familyipc = pd.read_csv(\"data/FamilyIPC.csv\", low_memory=False)"
   ]
  },
  {
   "cell_type": "code",
   "execution_count": 4,
   "metadata": {},
   "outputs": [],
   "source": [
    "familycitations = pd.read_csv(\"data/FamilyCitations.csv\", low_memory=False)"
   ]
  },
  {
   "cell_type": "code",
   "execution_count": 10,
   "metadata": {},
   "outputs": [],
   "source": [
    "familyipc\n",
    "ipcs = familyipc[\"IPC\"]\n",
    "# Фильтруем IPCs, оставляя часть (в данном случае до дефиса)\n",
    "ipcs = ipcs.str.split(\"-\").str[0]"
   ]
  },
  {
   "cell_type": "code",
   "execution_count": 11,
   "metadata": {},
   "outputs": [
    {
     "data": {
      "text/plain": [
       "<Axes: xlabel='IPC'>"
      ]
     },
     "execution_count": 11,
     "metadata": {},
     "output_type": "execute_result"
    },
    {
     "data": {
      "image/png": "[encoded data removed]",
      "text/plain": [
       "<Figure size 640x480 with 1 Axes>"
      ]
     },
     "metadata": {},
     "output_type": "display_data"
    }
   ],
   "source": [
    "# Посмотрим как распределены патентные классы\n",
    "counts = ipcs.value_counts()\n",
    "sorted_counts = counts.sort_values(ascending=False)\n",
    "sc = sorted_counts[sorted_counts > 1000]\n",
    "# show bar chart\n",
    "sc[8:18].plot.bar()"
   ]
  },
  {
   "cell_type": "code",
   "execution_count": 12,
   "metadata": {},
   "outputs": [],
   "source": [
    "# H04M - Телефонная связь\n",
    "# H01L - Полупроводниковые приборы; электрические приборы на твердом теле, не отнесенные к другим классам или подклассам 2\n",
    "# G11B - Накопление информации, основанное на относительном перемещении носителя записи и преобразователя\n",
    "# G05B - Регулирующие и управляющие системы общего назначения; функциональные элементы таких систем; устройства для контроля или испытания таких систем или элементов\n",
    "\n",
    "# H04M - Telephonic communication\n",
    "# H01L - Semiconductor devices; Electric solid state devices not otherwise provided for\n",
    "# G11B - Information storage based on relative movement between record carrier and transducer\n",
    "# G05B - Control or regulating systems in general; Functional elements of such systems; Monitoring or testing arrangements for such systems or elements\n",
    "\n",
    "classes = [\"H04M\", \"H01L\", \"G11B\", \"G05B\"]"
   ]
  },
  {
   "cell_type": "code",
   "execution_count": 13,
   "metadata": {},
   "outputs": [
    {
     "name": "stderr",
     "output_type": "stream",
     "text": [
      "D:\\_TEMP\\ipykernel_17032\\2377872591.py:8: SettingWithCopyWarning: \n",
      "A value is trying to be set on a copy of a slice from a DataFrame.\n",
      "Try using .loc[row_indexer,col_indexer] = value instead\n",
      "\n",
      "See the caveats in the documentation: https://pandas.pydata.org/pandas-docs/stable/user_guide/indexing.html#returning-a-view-versus-a-copy\n",
      "  patents[\"IPC\"] = c\n",
      "D:\\_TEMP\\ipykernel_17032\\2377872591.py:8: SettingWithCopyWarning: \n",
      "A value is trying to be set on a copy of a slice from a DataFrame.\n",
      "Try using .loc[row_indexer,col_indexer] = value instead\n",
      "\n",
      "See the caveats in the documentation: https://pandas.pydata.org/pandas-docs/stable/user_guide/indexing.html#returning-a-view-versus-a-copy\n",
      "  patents[\"IPC\"] = c\n",
      "D:\\_TEMP\\ipykernel_17032\\2377872591.py:8: SettingWithCopyWarning: \n",
      "A value is trying to be set on a copy of a slice from a DataFrame.\n",
      "Try using .loc[row_indexer,col_indexer] = value instead\n",
      "\n",
      "See the caveats in the documentation: https://pandas.pydata.org/pandas-docs/stable/user_guide/indexing.html#returning-a-view-versus-a-copy\n",
      "  patents[\"IPC\"] = c\n",
      "D:\\_TEMP\\ipykernel_17032\\2377872591.py:8: SettingWithCopyWarning: \n",
      "A value is trying to be set on a copy of a slice from a DataFrame.\n",
      "Try using .loc[row_indexer,col_indexer] = value instead\n",
      "\n",
      "See the caveats in the documentation: https://pandas.pydata.org/pandas-docs/stable/user_guide/indexing.html#returning-a-view-versus-a-copy\n",
      "  patents[\"IPC\"] = c\n"
     ]
    }
   ],
   "source": [
    "patents_all = []\n",
    "for c in classes:\n",
    "    # Выбираем все группы агрегации, которые соответствуют классу\n",
    "    gas = familyipc[familyipc[\"IPC\"].str.startswith(c)][\"GA\"].unique().astype(str)\n",
    "    # Выбираем все патенты, которые соответствуют группам агрегации\n",
    "    patents = familiesaggregated[familiesaggregated[\"GA\"].isin(gas)]\n",
    "    # Добавляем класс\n",
    "    patents[\"IPC\"] = c\n",
    "    # Добавляем в список\n",
    "    patents_all.append(patents)\n",
    "# Соединяем все списки в один\n",
    "patents_uf = pd.concat(patents_all)\n",
    "# Удаляем дубликаты по GA (один патент может принадлежать нескольким классам, но в данном\n",
    "# случае мы не хотим дублировать патенты)\n",
    "patents_uf = patents_uf.drop_duplicates(subset=\"GA\")"
   ]
  },
  {
   "cell_type": "code",
   "execution_count": 14,
   "metadata": {},
   "outputs": [
    {
     "data": {
      "text/plain": [
       "IPC\n",
       "G05B    10682\n",
       "G11B    10682\n",
       "H01L    10682\n",
       "H04M    10682\n",
       "Name: count, dtype: int64"
      ]
     },
     "execution_count": 14,
     "metadata": {},
     "output_type": "execute_result"
    }
   ],
   "source": [
    "# Делаем так, чтобы в каждом классе было одинаковое количество патентов (выбираем случайные патенты)\n",
    "min_count = patents_uf[\"IPC\"].value_counts().min()\n",
    "patents = patents_uf.groupby(\"IPC\").apply(lambda x: x.sample(min_count, random_state=10))\n",
    "patents = patents.reset_index(drop=True)\n",
    "patents[\"IPC\"].value_counts()"
   ]
  },
  {
   "cell_type": "code",
   "execution_count": 15,
   "metadata": {},
   "outputs": [],
   "source": [
    "patents.to_csv(\"patents.csv\", index=False)"
   ]
  }
 ],
 "metadata": {
  "kernelspec": {
   "display_name": "Python 3",
   "language": "python",
   "name": "python3"
  },
  "language_info": {
   "codemirror_mode": {
    "name": "ipython",
    "version": 3
   },
   "file_extension": ".py",
   "mimetype": "text/x-python",
   "name": "python",
   "nbconvert_exporter": "python",
   "pygments_lexer": "ipython3",
   "version": "3.10.11"
  },
  "orig_nbformat": 4
 },
 "nbformat": 4,
 "nbformat_minor": 2
}
